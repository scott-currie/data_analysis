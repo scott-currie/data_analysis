{
 "cells": [
  {
   "cell_type": "markdown",
   "metadata": {},
   "source": [
    "# Stock Data Analysis"
   ]
  },
  {
   "cell_type": "code",
   "execution_count": 26,
   "metadata": {},
   "outputs": [],
   "source": [
    "import pandas as pd\n",
    "import matplotlib\n",
    "import matplotlib.pyplot as plt\n",
    "import numpy as np\n",
    "from sklearn.model_selection import train_test_split\n",
    "import numpy.polynomial.polynomial as poly"
   ]
  },
  {
   "cell_type": "code",
   "execution_count": 3,
   "metadata": {},
   "outputs": [],
   "source": [
    "# Data sourced from:\n",
    "# https://api.iextrading.com/1.0/stock/amzn/chart/5y"
   ]
  },
  {
   "cell_type": "markdown",
   "metadata": {},
   "source": [
    "### Load the data you receive into a Pandas DataFrame"
   ]
  },
  {
   "cell_type": "code",
   "execution_count": 6,
   "metadata": {},
   "outputs": [],
   "source": [
    "# Read in data from JSON file previsously downloaded\n",
    "df = pd.read_json('./amzn_5yr_data.json')"
   ]
  },
  {
   "cell_type": "markdown",
   "metadata": {},
   "source": [
    "### Show the first 5 rows of the dataset"
   ]
  },
  {
   "cell_type": "code",
   "execution_count": 5,
   "metadata": {},
   "outputs": [
    {
     "data": {
      "text/html": [
       "<div>\n",
       "<style scoped>\n",
       "    .dataframe tbody tr th:only-of-type {\n",
       "        vertical-align: middle;\n",
       "    }\n",
       "\n",
       "    .dataframe tbody tr th {\n",
       "        vertical-align: top;\n",
       "    }\n",
       "\n",
       "    .dataframe thead th {\n",
       "        text-align: right;\n",
       "    }\n",
       "</style>\n",
       "<table border=\"1\" class=\"dataframe\">\n",
       "  <thead>\n",
       "    <tr style=\"text-align: right;\">\n",
       "      <th></th>\n",
       "      <th>change</th>\n",
       "      <th>changeOverTime</th>\n",
       "      <th>changePercent</th>\n",
       "      <th>close</th>\n",
       "      <th>date</th>\n",
       "      <th>high</th>\n",
       "      <th>label</th>\n",
       "      <th>low</th>\n",
       "      <th>open</th>\n",
       "      <th>unadjustedVolume</th>\n",
       "      <th>volume</th>\n",
       "      <th>vwap</th>\n",
       "    </tr>\n",
       "  </thead>\n",
       "  <tbody>\n",
       "    <tr>\n",
       "      <th>0</th>\n",
       "      <td>8.31</td>\n",
       "      <td>0.000000</td>\n",
       "      <td>2.144</td>\n",
       "      <td>395.96</td>\n",
       "      <td>2013-12-18</td>\n",
       "      <td>396.3000</td>\n",
       "      <td>Dec 18, 13</td>\n",
       "      <td>383.10</td>\n",
       "      <td>389.23</td>\n",
       "      <td>3493635</td>\n",
       "      <td>3493635</td>\n",
       "      <td>390.0149</td>\n",
       "    </tr>\n",
       "    <tr>\n",
       "      <th>1</th>\n",
       "      <td>-0.77</td>\n",
       "      <td>-0.001945</td>\n",
       "      <td>-0.194</td>\n",
       "      <td>395.19</td>\n",
       "      <td>2013-12-19</td>\n",
       "      <td>397.2900</td>\n",
       "      <td>Dec 19, 13</td>\n",
       "      <td>392.60</td>\n",
       "      <td>394.27</td>\n",
       "      <td>2429598</td>\n",
       "      <td>2429598</td>\n",
       "      <td>395.3560</td>\n",
       "    </tr>\n",
       "    <tr>\n",
       "      <th>2</th>\n",
       "      <td>7.01</td>\n",
       "      <td>0.015759</td>\n",
       "      <td>1.774</td>\n",
       "      <td>402.20</td>\n",
       "      <td>2013-12-20</td>\n",
       "      <td>404.7200</td>\n",
       "      <td>Dec 20, 13</td>\n",
       "      <td>395.78</td>\n",
       "      <td>396.55</td>\n",
       "      <td>5038537</td>\n",
       "      <td>5038537</td>\n",
       "      <td>401.1329</td>\n",
       "    </tr>\n",
       "    <tr>\n",
       "      <th>3</th>\n",
       "      <td>0.72</td>\n",
       "      <td>0.017578</td>\n",
       "      <td>0.179</td>\n",
       "      <td>402.92</td>\n",
       "      <td>2013-12-23</td>\n",
       "      <td>405.0000</td>\n",
       "      <td>Dec 23, 13</td>\n",
       "      <td>399.20</td>\n",
       "      <td>403.69</td>\n",
       "      <td>2661823</td>\n",
       "      <td>2661823</td>\n",
       "      <td>402.2857</td>\n",
       "    </tr>\n",
       "    <tr>\n",
       "      <th>4</th>\n",
       "      <td>-3.72</td>\n",
       "      <td>0.008183</td>\n",
       "      <td>-0.923</td>\n",
       "      <td>399.20</td>\n",
       "      <td>2013-12-24</td>\n",
       "      <td>403.7249</td>\n",
       "      <td>Dec 24, 13</td>\n",
       "      <td>396.37</td>\n",
       "      <td>402.52</td>\n",
       "      <td>1380373</td>\n",
       "      <td>1380373</td>\n",
       "      <td>399.4538</td>\n",
       "    </tr>\n",
       "  </tbody>\n",
       "</table>\n",
       "</div>"
      ],
      "text/plain": [
       "   change  changeOverTime  changePercent   close       date      high  \\\n",
       "0    8.31        0.000000          2.144  395.96 2013-12-18  396.3000   \n",
       "1   -0.77       -0.001945         -0.194  395.19 2013-12-19  397.2900   \n",
       "2    7.01        0.015759          1.774  402.20 2013-12-20  404.7200   \n",
       "3    0.72        0.017578          0.179  402.92 2013-12-23  405.0000   \n",
       "4   -3.72        0.008183         -0.923  399.20 2013-12-24  403.7249   \n",
       "\n",
       "        label     low    open  unadjustedVolume   volume      vwap  \n",
       "0  Dec 18, 13  383.10  389.23           3493635  3493635  390.0149  \n",
       "1  Dec 19, 13  392.60  394.27           2429598  2429598  395.3560  \n",
       "2  Dec 20, 13  395.78  396.55           5038537  5038537  401.1329  \n",
       "3  Dec 23, 13  399.20  403.69           2661823  2661823  402.2857  \n",
       "4  Dec 24, 13  396.37  402.52           1380373  1380373  399.4538  "
      ]
     },
     "execution_count": 5,
     "metadata": {},
     "output_type": "execute_result"
    }
   ],
   "source": [
    "df.head(5)"
   ]
  },
  {
   "cell_type": "markdown",
   "metadata": {},
   "source": [
    "### Show the description and the info of the data set"
   ]
  },
  {
   "cell_type": "code",
   "execution_count": 9,
   "metadata": {},
   "outputs": [
    {
     "data": {
      "text/html": [
       "<div>\n",
       "<style scoped>\n",
       "    .dataframe tbody tr th:only-of-type {\n",
       "        vertical-align: middle;\n",
       "    }\n",
       "\n",
       "    .dataframe tbody tr th {\n",
       "        vertical-align: top;\n",
       "    }\n",
       "\n",
       "    .dataframe thead th {\n",
       "        text-align: right;\n",
       "    }\n",
       "</style>\n",
       "<table border=\"1\" class=\"dataframe\">\n",
       "  <thead>\n",
       "    <tr style=\"text-align: right;\">\n",
       "      <th></th>\n",
       "      <th>change</th>\n",
       "      <th>changeOverTime</th>\n",
       "      <th>changePercent</th>\n",
       "      <th>close</th>\n",
       "      <th>high</th>\n",
       "      <th>low</th>\n",
       "      <th>open</th>\n",
       "      <th>unadjustedVolume</th>\n",
       "      <th>volume</th>\n",
       "      <th>vwap</th>\n",
       "    </tr>\n",
       "  </thead>\n",
       "  <tbody>\n",
       "    <tr>\n",
       "      <th>count</th>\n",
       "      <td>1258.000000</td>\n",
       "      <td>1258.000000</td>\n",
       "      <td>1258.000000</td>\n",
       "      <td>1258.000000</td>\n",
       "      <td>1258.000000</td>\n",
       "      <td>1258.000000</td>\n",
       "      <td>1258.000000</td>\n",
       "      <td>1.258000e+03</td>\n",
       "      <td>1.258000e+03</td>\n",
       "      <td>1258.000000</td>\n",
       "    </tr>\n",
       "    <tr>\n",
       "      <th>mean</th>\n",
       "      <td>0.900843</td>\n",
       "      <td>1.059966</td>\n",
       "      <td>0.127112</td>\n",
       "      <td>815.664118</td>\n",
       "      <td>823.903690</td>\n",
       "      <td>806.817366</td>\n",
       "      <td>816.210250</td>\n",
       "      <td>4.186478e+06</td>\n",
       "      <td>4.186478e+06</td>\n",
       "      <td>815.590399</td>\n",
       "    </tr>\n",
       "    <tr>\n",
       "      <th>std</th>\n",
       "      <td>18.302335</td>\n",
       "      <td>1.200044</td>\n",
       "      <td>1.923018</td>\n",
       "      <td>475.169282</td>\n",
       "      <td>480.799525</td>\n",
       "      <td>469.497317</td>\n",
       "      <td>476.111014</td>\n",
       "      <td>2.364444e+06</td>\n",
       "      <td>2.364444e+06</td>\n",
       "      <td>475.352043</td>\n",
       "    </tr>\n",
       "    <tr>\n",
       "      <th>min</th>\n",
       "      <td>-139.360000</td>\n",
       "      <td>-0.275306</td>\n",
       "      <td>-10.997000</td>\n",
       "      <td>286.950000</td>\n",
       "      <td>290.420000</td>\n",
       "      <td>284.000000</td>\n",
       "      <td>284.400000</td>\n",
       "      <td>1.092970e+06</td>\n",
       "      <td>1.092970e+06</td>\n",
       "      <td>287.995100</td>\n",
       "    </tr>\n",
       "    <tr>\n",
       "      <th>25%</th>\n",
       "      <td>-4.440000</td>\n",
       "      <td>-0.005379</td>\n",
       "      <td>-0.700250</td>\n",
       "      <td>393.830000</td>\n",
       "      <td>397.585000</td>\n",
       "      <td>388.105000</td>\n",
       "      <td>393.702500</td>\n",
       "      <td>2.704298e+06</td>\n",
       "      <td>2.704298e+06</td>\n",
       "      <td>391.968500</td>\n",
       "    </tr>\n",
       "    <tr>\n",
       "      <th>50%</th>\n",
       "      <td>0.735000</td>\n",
       "      <td>0.816307</td>\n",
       "      <td>0.115500</td>\n",
       "      <td>719.185000</td>\n",
       "      <td>723.395000</td>\n",
       "      <td>713.036600</td>\n",
       "      <td>717.785000</td>\n",
       "      <td>3.562152e+06</td>\n",
       "      <td>3.562152e+06</td>\n",
       "      <td>718.636400</td>\n",
       "    </tr>\n",
       "    <tr>\n",
       "      <th>75%</th>\n",
       "      <td>6.997500</td>\n",
       "      <td>1.516416</td>\n",
       "      <td>1.069750</td>\n",
       "      <td>996.400000</td>\n",
       "      <td>1004.815000</td>\n",
       "      <td>991.895000</td>\n",
       "      <td>999.867500</td>\n",
       "      <td>4.808373e+06</td>\n",
       "      <td>4.808373e+06</td>\n",
       "      <td>997.215700</td>\n",
       "    </tr>\n",
       "    <tr>\n",
       "      <th>max</th>\n",
       "      <td>128.520000</td>\n",
       "      <td>4.150798</td>\n",
       "      <td>14.131000</td>\n",
       "      <td>2039.510000</td>\n",
       "      <td>2050.500000</td>\n",
       "      <td>2013.000000</td>\n",
       "      <td>2038.110000</td>\n",
       "      <td>2.385606e+07</td>\n",
       "      <td>2.385606e+07</td>\n",
       "      <td>2034.750000</td>\n",
       "    </tr>\n",
       "  </tbody>\n",
       "</table>\n",
       "</div>"
      ],
      "text/plain": [
       "            change  changeOverTime  changePercent        close         high  \\\n",
       "count  1258.000000     1258.000000    1258.000000  1258.000000  1258.000000   \n",
       "mean      0.900843        1.059966       0.127112   815.664118   823.903690   \n",
       "std      18.302335        1.200044       1.923018   475.169282   480.799525   \n",
       "min    -139.360000       -0.275306     -10.997000   286.950000   290.420000   \n",
       "25%      -4.440000       -0.005379      -0.700250   393.830000   397.585000   \n",
       "50%       0.735000        0.816307       0.115500   719.185000   723.395000   \n",
       "75%       6.997500        1.516416       1.069750   996.400000  1004.815000   \n",
       "max     128.520000        4.150798      14.131000  2039.510000  2050.500000   \n",
       "\n",
       "               low         open  unadjustedVolume        volume         vwap  \n",
       "count  1258.000000  1258.000000      1.258000e+03  1.258000e+03  1258.000000  \n",
       "mean    806.817366   816.210250      4.186478e+06  4.186478e+06   815.590399  \n",
       "std     469.497317   476.111014      2.364444e+06  2.364444e+06   475.352043  \n",
       "min     284.000000   284.400000      1.092970e+06  1.092970e+06   287.995100  \n",
       "25%     388.105000   393.702500      2.704298e+06  2.704298e+06   391.968500  \n",
       "50%     713.036600   717.785000      3.562152e+06  3.562152e+06   718.636400  \n",
       "75%     991.895000   999.867500      4.808373e+06  4.808373e+06   997.215700  \n",
       "max    2013.000000  2038.110000      2.385606e+07  2.385606e+07  2034.750000  "
      ]
     },
     "execution_count": 9,
     "metadata": {},
     "output_type": "execute_result"
    }
   ],
   "source": [
    "df.describe()"
   ]
  },
  {
   "cell_type": "code",
   "execution_count": 10,
   "metadata": {},
   "outputs": [
    {
     "name": "stdout",
     "output_type": "stream",
     "text": [
      "<class 'pandas.core.frame.DataFrame'>\n",
      "RangeIndex: 1258 entries, 0 to 1257\n",
      "Data columns (total 12 columns):\n",
      "change              1258 non-null float64\n",
      "changeOverTime      1258 non-null float64\n",
      "changePercent       1258 non-null float64\n",
      "close               1258 non-null float64\n",
      "date                1258 non-null datetime64[ns]\n",
      "high                1258 non-null float64\n",
      "label               1258 non-null object\n",
      "low                 1258 non-null float64\n",
      "open                1258 non-null float64\n",
      "unadjustedVolume    1258 non-null int64\n",
      "volume              1258 non-null int64\n",
      "vwap                1258 non-null float64\n",
      "dtypes: datetime64[ns](1), float64(8), int64(2), object(1)\n",
      "memory usage: 118.0+ KB\n"
     ]
    }
   ],
   "source": [
    "df.info()"
   ]
  },
  {
   "cell_type": "markdown",
   "metadata": {},
   "source": [
    "### Ensure that the date column has been cast into a datetime object in your DataFrame"
   ]
  },
  {
   "cell_type": "code",
   "execution_count": 11,
   "metadata": {},
   "outputs": [],
   "source": [
    "df['date'] = pd.to_datetime(df['date'])"
   ]
  },
  {
   "cell_type": "code",
   "execution_count": 15,
   "metadata": {},
   "outputs": [
    {
     "data": {
      "text/plain": [
       "pandas._libs.tslibs.timestamps.Timestamp"
      ]
     },
     "execution_count": 15,
     "metadata": {},
     "output_type": "execute_result"
    }
   ],
   "source": [
    "type(df['date'][0])"
   ]
  },
  {
   "cell_type": "markdown",
   "metadata": {},
   "source": [
    "### Using a regression model, split your data into train and test data"
   ]
  },
  {
   "cell_type": "code",
   "execution_count": 20,
   "metadata": {},
   "outputs": [],
   "source": [
    "X_full = df.date\n",
    "Y_full = df.high\n",
    "X_train, X_test, Y_test, Y_train = train_test_split(X_full, Y_full, test_size=0.5, random_state=42)"
   ]
  },
  {
   "cell_type": "code",
   "execution_count": 25,
   "metadata": {},
   "outputs": [
    {
     "data": {
      "text/plain": [
       "[<matplotlib.lines.Line2D at 0x7f0373daf7b8>]"
      ]
     },
     "execution_count": 25,
     "metadata": {},
     "output_type": "execute_result"
    },
    {
     "data": {
      "image/png": "[encoded data removed]",
      "text/plain": [
       "<Figure size 432x288 with 1 Axes>"
      ]
     },
     "metadata": {
      "needs_background": "light"
     },
     "output_type": "display_data"
    }
   ],
   "source": [
    "plt.plot(X_test, Y_test, 'bo', markersize=5)"
   ]
  },
  {
   "cell_type": "code",
   "execution_count": null,
   "metadata": {},
   "outputs": [],
   "source": []
  }
 ],
 "metadata": {
  "kernelspec": {
   "display_name": "Python 3",
   "language": "python",
   "name": "python3"
  },
  "language_info": {
   "codemirror_mode": {
    "name": "ipython",
    "version": 3
   },
   "file_extension": ".py",
   "mimetype": "text/x-python",
   "name": "python",
   "nbconvert_exporter": "python",
   "pygments_lexer": "ipython3",
   "version": "3.6.7"
  }
 },
 "nbformat": 4,
 "nbformat_minor": 2
}
